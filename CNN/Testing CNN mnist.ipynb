{
 "cells": [
  {
   "cell_type": "code",
   "execution_count": 1,
   "id": "4c3e2fab",
   "metadata": {},
   "outputs": [],
   "source": [
    "from PIL import Image, ImageOps\n",
    "import sys"
   ]
  },
  {
   "cell_type": "code",
   "execution_count": 2,
   "id": "dc4e8d64",
   "metadata": {},
   "outputs": [
    {
     "name": "stderr",
     "output_type": "stream",
     "text": [
      "2022-07-06 11:16:23.007863: W tensorflow/stream_executor/platform/default/dso_loader.cc:64] Could not load dynamic library 'libcudart.so.11.0'; dlerror: libcudart.so.11.0: cannot open shared object file: No such file or directory\n",
      "2022-07-06 11:16:23.007910: I tensorflow/stream_executor/cuda/cudart_stub.cc:29] Ignore above cudart dlerror if you do not have a GPU set up on your machine.\n",
      "2022-07-06 11:16:24.962331: E tensorflow/stream_executor/cuda/cuda_driver.cc:271] failed call to cuInit: CUDA_ERROR_UNKNOWN: unknown error\n",
      "2022-07-06 11:16:24.962374: I tensorflow/stream_executor/cuda/cuda_diagnostics.cc:169] retrieving CUDA diagnostic information for host: isabel-PC\n",
      "2022-07-06 11:16:24.962382: I tensorflow/stream_executor/cuda/cuda_diagnostics.cc:176] hostname: isabel-PC\n",
      "2022-07-06 11:16:24.962513: I tensorflow/stream_executor/cuda/cuda_diagnostics.cc:200] libcuda reported version is: 510.73.5\n",
      "2022-07-06 11:16:24.962534: I tensorflow/stream_executor/cuda/cuda_diagnostics.cc:204] kernel reported version is: 510.73.5\n",
      "2022-07-06 11:16:24.962541: I tensorflow/stream_executor/cuda/cuda_diagnostics.cc:310] kernel version seems to match DSO: 510.73.5\n",
      "2022-07-06 11:16:24.962927: I tensorflow/core/platform/cpu_feature_guard.cc:193] This TensorFlow binary is optimized with oneAPI Deep Neural Network Library (oneDNN) to use the following CPU instructions in performance-critical operations:  AVX2 FMA\n",
      "To enable them in other operations, rebuild TensorFlow with the appropriate compiler flags.\n"
     ]
    }
   ],
   "source": [
    "import tensorflow as tf\n",
    "testModel = tf.keras.models.load_model('mnistCNN10epochs.h5')\n",
    "\n",
    "testModel.compile(loss='categorical_crossentropy',\n",
    "              optimizer='adam',\n",
    "              metrics=['accuracy'])"
   ]
  },
  {
   "cell_type": "code",
   "execution_count": 54,
   "id": "4cdd177b",
   "metadata": {},
   "outputs": [
    {
     "name": "stdout",
     "output_type": "stream",
     "text": [
      "1/1 [==============================] - 0s 27ms/step\n"
     ]
    },
    {
     "data": {
      "text/plain": [
       "3"
      ]
     },
     "execution_count": 54,
     "metadata": {},
     "output_type": "execute_result"
    }
   ],
   "source": [
    "# Prueba del 3\n",
    "import numpy as np\n",
    "image_path = \"/home/isabel/Desktop/spikingjelly/examples/three.png\"\n",
    "image = tf.keras.preprocessing.image.load_img(image_path, target_size=(28, 28))\n",
    "image = tf.image.rgb_to_grayscale(image)\n",
    "input_arr = tf.keras.preprocessing.image.img_to_array(image)\n",
    "input_arr = np.array([input_arr])  # Convert single image to a batch.\n",
    "input_arr = input_arr.astype('float32') / 255.  # This is VERY important\n",
    "predictions = testModel.predict(input_arr, batch_size=None, verbose=1, steps=None)\n",
    "predicted_class = np.argmax(predictions, axis=-1)\n",
    "predicted_class[0]"
   ]
  },
  {
   "cell_type": "code",
   "execution_count": 55,
   "id": "0c4d96c9",
   "metadata": {},
   "outputs": [
    {
     "name": "stdout",
     "output_type": "stream",
     "text": [
      "1/1 [==============================] - 0s 25ms/step\n"
     ]
    },
    {
     "data": {
      "text/plain": [
       "7"
      ]
     },
     "execution_count": 55,
     "metadata": {},
     "output_type": "execute_result"
    }
   ],
   "source": [
    "# Prueba del 7\n",
    "import numpy as np\n",
    "image_path = \"/home/isabel/Desktop/spikingjelly/examples/seven2.webp\"\n",
    "image = tf.keras.preprocessing.image.load_img(image_path, target_size=(28, 28))\n",
    "image = tf.image.rgb_to_grayscale(image)\n",
    "input_arr = tf.keras.preprocessing.image.img_to_array(image)\n",
    "input_arr = np.array([input_arr])  # Convert single image to a batch.\n",
    "input_arr = input_arr.astype('float32') / 255.  # This is VERY important\n",
    "predictions = testModel.predict(input_arr, batch_size=None, verbose=1, steps=None)\n",
    "predicted_class = np.argmax(predictions, axis=-1)\n",
    "predicted_class[0]"
   ]
  },
  {
   "cell_type": "code",
   "execution_count": null,
   "id": "8bb12edd",
   "metadata": {},
   "outputs": [],
   "source": []
  }
 ],
 "metadata": {
  "kernelspec": {
   "display_name": "Python 3 (ipykernel)",
   "language": "python",
   "name": "python3"
  },
  "language_info": {
   "codemirror_mode": {
    "name": "ipython",
    "version": 3
   },
   "file_extension": ".py",
   "mimetype": "text/x-python",
   "name": "python",
   "nbconvert_exporter": "python",
   "pygments_lexer": "ipython3",
   "version": "3.10.4"
  }
 },
 "nbformat": 4,
 "nbformat_minor": 5
}
