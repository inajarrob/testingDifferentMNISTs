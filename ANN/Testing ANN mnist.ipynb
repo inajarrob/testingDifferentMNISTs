{
 "cells": [
  {
   "cell_type": "code",
   "execution_count": 1,
   "id": "4c3e2fab",
   "metadata": {},
   "outputs": [],
   "source": [
    "import sys"
   ]
  },
  {
   "cell_type": "code",
   "execution_count": 2,
   "id": "dc4e8d64",
   "metadata": {},
   "outputs": [],
   "source": [
    "import tensorflow as tf\n",
    "testModel = tf.keras.models.load_model('mnistANN15epochs.h5')\n",
    "testModelGPU = tf.keras.models.load_model('mnistANN15epochsGPU.h5')"
   ]
  },
  {
   "cell_type": "code",
   "execution_count": 5,
   "id": "4cdd177b",
   "metadata": {},
   "outputs": [
    {
     "name": "stdout",
     "output_type": "stream",
     "text": [
      "1/1 [==============================] - 0s 13ms/step\n"
     ]
    },
    {
     "data": {
      "text/plain": [
       "8"
      ]
     },
     "execution_count": 5,
     "metadata": {},
     "output_type": "execute_result"
    }
   ],
   "source": [
    "# Prueba del 3 CPU\n",
    "import numpy as np\n",
    "from numpy import mean\n",
    "image_path = \"/home/isabel/Desktop/pruebasDistintasMNIST/examples/three.png\"\n",
    "image = tf.keras.preprocessing.image.load_img(image_path, target_size=(28, 28))\n",
    "image = tf.image.rgb_to_grayscale(image)\n",
    "input_arr = tf.keras.preprocessing.image.img_to_array(image)\n",
    "input_arr = np.array([input_arr])  # Convert single image to a batch.\n",
    "input_arr = np.reshape(input_arr, (1, 784))\n",
    "input_arr = input_arr.astype('float32') / 255.\n",
    "predictions = testModel.predict(input_arr)\n",
    "result = np.argmax(predictions)\n",
    "result"
   ]
  },
  {
   "cell_type": "code",
   "execution_count": 9,
   "id": "86d0b945",
   "metadata": {},
   "outputs": [
    {
     "name": "stdout",
     "output_type": "stream",
     "text": [
      "1/1 [==============================] - 0s 13ms/step\n"
     ]
    },
    {
     "data": {
      "text/plain": [
       "array([8])"
      ]
     },
     "execution_count": 9,
     "metadata": {},
     "output_type": "execute_result"
    }
   ],
   "source": [
    "# Prueba del 3 GPU\n",
    "import numpy as np\n",
    "from numpy import mean\n",
    "image_path = \"/home/isabel/Desktop/pruebasDistintasMNIST/examples/three.png\"\n",
    "image = tf.keras.preprocessing.image.load_img(image_path, target_size=(28, 28))\n",
    "image = tf.image.rgb_to_grayscale(image)\n",
    "input_arr = tf.keras.preprocessing.image.img_to_array(image)\n",
    "input_arr = np.array([input_arr])  # Convert single image to a batch.\n",
    "input_arr = np.reshape(input_arr, (1, 784))\n",
    "input_arr = input_arr.astype('float32') / 255.\n",
    "predictions = testModelGPU.predict(input_arr)\n",
    "result = np.argmax(predictions, axis=-1)\n",
    "result"
   ]
  },
  {
   "cell_type": "code",
   "execution_count": 10,
   "id": "ec5ae76f",
   "metadata": {},
   "outputs": [
    {
     "name": "stdout",
     "output_type": "stream",
     "text": [
      "1/1 [==============================] - 0s 13ms/step\n"
     ]
    },
    {
     "data": {
      "text/plain": [
       "0"
      ]
     },
     "execution_count": 10,
     "metadata": {},
     "output_type": "execute_result"
    }
   ],
   "source": [
    "# Prueba del 7 CPU\n",
    "import numpy as np\n",
    "image_path = \"/home/isabel/Desktop/spikingjelly/examples/seven2.webp\"\n",
    "image = tf.keras.preprocessing.image.load_img(image_path, target_size=(28, 28))\n",
    "image = tf.image.rgb_to_grayscale(image)\n",
    "input_arr = tf.keras.preprocessing.image.img_to_array(image)\n",
    "input_arr = np.array([input_arr])  # Convert single image to a batch.\n",
    "input_arr = input_arr.astype('float32') / 255.  # This is VERY important\n",
    "input_arr = np.reshape(input_arr, (1, 784))\n",
    "predictions = testModel.predict(input_arr, batch_size=None, verbose=1, steps=None)\n",
    "predicted_class = np.argmax(predictions, axis=-1)\n",
    "result = np.argmax(predictions)\n",
    "result"
   ]
  },
  {
   "cell_type": "code",
   "execution_count": null,
   "id": "85e86e81",
   "metadata": {},
   "outputs": [],
   "source": [
    "# Prueba del 7 GPU\n",
    "import numpy as np\n",
    "image_path = \"/home/isabel/Desktop/spikingjelly/examples/seven2.webp\"\n",
    "image = tf.keras.preprocessing.image.load_img(image_path, target_size=(28, 28))\n",
    "image = tf.image.rgb_to_grayscale(image)\n",
    "input_arr = tf.keras.preprocessing.image.img_to_array(image)\n",
    "input_arr = np.array([input_arr])  # Convert single image to a batch.\n",
    "input_arr = input_arr.astype('float32') / 255.  # This is VERY important\n",
    "input_arr = np.reshape(input_arr, (1, 784))\n",
    "predictions = testModel.predict(input_arr, batch_size=None, verbose=1, steps=None)\n",
    "predicted_class = np.argmax(predictions, axis=-1)\n",
    "result = np.argmax(predictions)\n",
    "result"
   ]
  },
  {
   "cell_type": "code",
   "execution_count": null,
   "id": "84fccf11",
   "metadata": {},
   "outputs": [],
   "source": []
  }
 ],
 "metadata": {
  "kernelspec": {
   "display_name": "Python 3 (ipykernel)",
   "language": "python",
   "name": "python3"
  },
  "language_info": {
   "codemirror_mode": {
    "name": "ipython",
    "version": 3
   },
   "file_extension": ".py",
   "mimetype": "text/x-python",
   "name": "python",
   "nbconvert_exporter": "python",
   "pygments_lexer": "ipython3",
   "version": "3.10.4"
  }
 },
 "nbformat": 4,
 "nbformat_minor": 5
}
