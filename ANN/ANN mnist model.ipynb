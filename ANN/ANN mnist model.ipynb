{
 "cells": [
  {
   "cell_type": "markdown",
   "metadata": {},
   "source": [
    "# ANN"
   ]
  },
  {
   "cell_type": "code",
   "execution_count": 1,
   "metadata": {
    "scrolled": true
   },
   "outputs": [
    {
     "name": "stdout",
     "output_type": "stream",
     "text": [
      "[name: \"/device:CPU:0\"\n",
      "device_type: \"CPU\"\n",
      "memory_limit: 268435456\n",
      "locality {\n",
      "}\n",
      "incarnation: 278317858677172420\n",
      "xla_global_id: -1\n",
      ", name: \"/device:GPU:0\"\n",
      "device_type: \"GPU\"\n",
      "memory_limit: 4880859136\n",
      "locality {\n",
      "  bus_id: 1\n",
      "  links {\n",
      "  }\n",
      "}\n",
      "incarnation: 3157136595395259102\n",
      "physical_device_desc: \"device: 0, name: NVIDIA GeForce GTX 1660 Ti with Max-Q Design, pci bus id: 0000:01:00.0, compute capability: 7.5\"\n",
      "xla_global_id: 416903419\n",
      "]\n"
     ]
    },
    {
     "name": "stderr",
     "output_type": "stream",
     "text": [
      "2022-07-09 18:56:26.387301: I tensorflow/core/platform/cpu_feature_guard.cc:193] This TensorFlow binary is optimized with oneAPI Deep Neural Network Library (oneDNN) to use the following CPU instructions in performance-critical operations:  AVX2 FMA\n",
      "To enable them in other operations, rebuild TensorFlow with the appropriate compiler flags.\n",
      "2022-07-09 18:56:26.429636: I tensorflow/stream_executor/cuda/cuda_gpu_executor.cc:975] successful NUMA node read from SysFS had negative value (-1), but there must be at least one NUMA node, so returning NUMA node zero\n",
      "2022-07-09 18:56:26.488043: I tensorflow/stream_executor/cuda/cuda_gpu_executor.cc:975] successful NUMA node read from SysFS had negative value (-1), but there must be at least one NUMA node, so returning NUMA node zero\n",
      "2022-07-09 18:56:26.488212: I tensorflow/stream_executor/cuda/cuda_gpu_executor.cc:975] successful NUMA node read from SysFS had negative value (-1), but there must be at least one NUMA node, so returning NUMA node zero\n",
      "2022-07-09 18:56:27.065715: I tensorflow/stream_executor/cuda/cuda_gpu_executor.cc:975] successful NUMA node read from SysFS had negative value (-1), but there must be at least one NUMA node, so returning NUMA node zero\n",
      "2022-07-09 18:56:27.065867: I tensorflow/stream_executor/cuda/cuda_gpu_executor.cc:975] successful NUMA node read from SysFS had negative value (-1), but there must be at least one NUMA node, so returning NUMA node zero\n",
      "2022-07-09 18:56:27.065986: I tensorflow/stream_executor/cuda/cuda_gpu_executor.cc:975] successful NUMA node read from SysFS had negative value (-1), but there must be at least one NUMA node, so returning NUMA node zero\n",
      "2022-07-09 18:56:27.066095: I tensorflow/core/common_runtime/gpu/gpu_device.cc:1532] Created device /device:GPU:0 with 4654 MB memory:  -> device: 0, name: NVIDIA GeForce GTX 1660 Ti with Max-Q Design, pci bus id: 0000:01:00.0, compute capability: 7.5\n"
     ]
    }
   ],
   "source": [
    "from tensorflow.python.client import device_lib\n",
    "print(device_lib.list_local_devices())"
   ]
  },
  {
   "cell_type": "markdown",
   "metadata": {},
   "source": [
    "Precarga de los datos en Keras"
   ]
  },
  {
   "cell_type": "code",
   "execution_count": 1,
   "metadata": {
    "scrolled": true
   },
   "outputs": [
    {
     "name": "stdout",
     "output_type": "stream",
     "text": [
      "Training data shape:  (60000, 28, 28)\n",
      "Test data shape (10000, 28, 28)\n",
      "First 5 training lables as one-hot encoded vectors:\n",
      " [[0. 0. 0. 0. 0. 1. 0. 0. 0. 0.]\n",
      " [1. 0. 0. 0. 0. 0. 0. 0. 0. 0.]\n",
      " [0. 0. 0. 0. 1. 0. 0. 0. 0. 0.]\n",
      " [0. 1. 0. 0. 0. 0. 0. 0. 0. 0.]\n",
      " [0. 0. 0. 0. 0. 0. 0. 0. 0. 1.]\n",
      " [0. 0. 1. 0. 0. 0. 0. 0. 0. 0.]\n",
      " [0. 1. 0. 0. 0. 0. 0. 0. 0. 0.]\n",
      " [0. 0. 0. 1. 0. 0. 0. 0. 0. 0.]\n",
      " [0. 1. 0. 0. 0. 0. 0. 0. 0. 0.]\n",
      " [0. 0. 0. 0. 1. 0. 0. 0. 0. 0.]]\n"
     ]
    }
   ],
   "source": [
    "from keras.datasets import mnist\n",
    "from keras import utils\n",
    "\n",
    "# Setup train and test splits\n",
    "(x_train, y_train), (x_test, y_test) = mnist.load_data()\n",
    "print(\"Training data shape: \", x_train.shape) # (60000, 28, 28) -- 60000 images, each 28x28 pixels\n",
    "print(\"Test data shape\", x_test.shape) # (10000, 28, 28) -- 10000 images, each 28x28\n",
    "\n",
    "# Flatten the images\n",
    "image_vector_size = 28*28\n",
    "x_train = x_train.reshape(x_train.shape[0], image_vector_size)\n",
    "x_test = x_test.reshape(x_test.shape[0], image_vector_size)\n",
    "\n",
    "# Convert to \"one-hot\" vectors using the to_categorical function\n",
    "num_classes = 10\n",
    "y_train = utils.to_categorical(y_train, num_classes)\n",
    "y_test = utils.to_categorical(y_test, num_classes)\n",
    "print(\"First 5 training lables as one-hot encoded vectors:\\n\", y_train[:10])"
   ]
  },
  {
   "cell_type": "code",
   "execution_count": 3,
   "metadata": {},
   "outputs": [
    {
     "name": "stdout",
     "output_type": "stream",
     "text": [
      "2\n",
      "(60000, 784)\n",
      "2\n",
      "(10000, 784)\n"
     ]
    }
   ],
   "source": [
    "print(x_train.ndim) \n",
    "print(x_train.shape)\n",
    "print(x_test.ndim) \n",
    "print(x_test.shape)"
   ]
  },
  {
   "cell_type": "code",
   "execution_count": 2,
   "metadata": {},
   "outputs": [
    {
     "name": "stderr",
     "output_type": "stream",
     "text": [
      "2022-07-10 19:03:10.251025: I tensorflow/stream_executor/cuda/cuda_gpu_executor.cc:975] successful NUMA node read from SysFS had negative value (-1), but there must be at least one NUMA node, so returning NUMA node zero\n"
     ]
    },
    {
     "name": "stdout",
     "output_type": "stream",
     "text": [
      "Model: \"sequential\"\n",
      "_________________________________________________________________\n",
      " Layer (type)                Output Shape              Param #   \n",
      "=================================================================\n",
      " dense (Dense)               (None, 100)               78500     \n",
      "                                                                 \n",
      " dense_1 (Dense)             (None, 10)                1010      \n",
      "                                                                 \n",
      "=================================================================\n",
      "Total params: 79,510\n",
      "Trainable params: 79,510\n",
      "Non-trainable params: 0\n",
      "_________________________________________________________________\n"
     ]
    },
    {
     "name": "stderr",
     "output_type": "stream",
     "text": [
      "2022-07-10 19:03:10.317545: I tensorflow/stream_executor/cuda/cuda_gpu_executor.cc:975] successful NUMA node read from SysFS had negative value (-1), but there must be at least one NUMA node, so returning NUMA node zero\n",
      "2022-07-10 19:03:10.317848: I tensorflow/stream_executor/cuda/cuda_gpu_executor.cc:975] successful NUMA node read from SysFS had negative value (-1), but there must be at least one NUMA node, so returning NUMA node zero\n",
      "2022-07-10 19:03:10.319284: I tensorflow/core/platform/cpu_feature_guard.cc:193] This TensorFlow binary is optimized with oneAPI Deep Neural Network Library (oneDNN) to use the following CPU instructions in performance-critical operations:  AVX2 FMA\n",
      "To enable them in other operations, rebuild TensorFlow with the appropriate compiler flags.\n",
      "2022-07-10 19:03:10.350084: I tensorflow/stream_executor/cuda/cuda_gpu_executor.cc:975] successful NUMA node read from SysFS had negative value (-1), but there must be at least one NUMA node, so returning NUMA node zero\n",
      "2022-07-10 19:03:10.350631: I tensorflow/stream_executor/cuda/cuda_gpu_executor.cc:975] successful NUMA node read from SysFS had negative value (-1), but there must be at least one NUMA node, so returning NUMA node zero\n",
      "2022-07-10 19:03:10.350824: I tensorflow/stream_executor/cuda/cuda_gpu_executor.cc:975] successful NUMA node read from SysFS had negative value (-1), but there must be at least one NUMA node, so returning NUMA node zero\n",
      "2022-07-10 19:03:11.033553: I tensorflow/stream_executor/cuda/cuda_gpu_executor.cc:975] successful NUMA node read from SysFS had negative value (-1), but there must be at least one NUMA node, so returning NUMA node zero\n",
      "2022-07-10 19:03:11.033823: I tensorflow/stream_executor/cuda/cuda_gpu_executor.cc:975] successful NUMA node read from SysFS had negative value (-1), but there must be at least one NUMA node, so returning NUMA node zero\n",
      "2022-07-10 19:03:11.034046: I tensorflow/stream_executor/cuda/cuda_gpu_executor.cc:975] successful NUMA node read from SysFS had negative value (-1), but there must be at least one NUMA node, so returning NUMA node zero\n",
      "2022-07-10 19:03:11.034228: I tensorflow/core/common_runtime/gpu/gpu_device.cc:1532] Created device /job:localhost/replica:0/task:0/device:GPU:0 with 4654 MB memory:  -> device: 0, name: NVIDIA GeForce GTX 1660 Ti with Max-Q Design, pci bus id: 0000:01:00.0, compute capability: 7.5\n"
     ]
    }
   ],
   "source": [
    "from keras.layers import Dense,Dropout # Dense layers are \"fully connected\" layers\n",
    "from keras.models import Sequential # Documentation: https://keras.io/models/sequential/\n",
    "\n",
    "model = Sequential()\n",
    "model.add(Dense(units=100, input_shape=(784,),activation='relu'))\n",
    "#model.add(Dense(units=200, activation='sigmoid'))\n",
    "model.add(Dense(units=10, activation='softmax'))\n",
    "model.summary()"
   ]
  },
  {
   "cell_type": "markdown",
   "metadata": {},
   "source": [
    "Predicciones"
   ]
  },
  {
   "cell_type": "code",
   "execution_count": 5,
   "metadata": {},
   "outputs": [
    {
     "name": "stdout",
     "output_type": "stream",
     "text": [
      "Epoch 1/10\n"
     ]
    },
    {
     "name": "stderr",
     "output_type": "stream",
     "text": [
      "2022-07-09 18:40:47.281931: W tensorflow/core/framework/cpu_allocator_impl.cc:82] Allocation of 47040000 exceeds 10% of free system memory.\n",
      "2022-07-09 18:40:47.332768: W tensorflow/core/framework/cpu_allocator_impl.cc:82] Allocation of 47040000 exceeds 10% of free system memory.\n"
     ]
    },
    {
     "name": "stdout",
     "output_type": "stream",
     "text": [
      "1200/1200 [==============================] - 4s 2ms/step - loss: 2.7310 - accuracy: 0.8462 - val_loss: 0.5967 - val_accuracy: 0.8755\n",
      "Epoch 2/10\n",
      "1200/1200 [==============================] - 3s 2ms/step - loss: 0.4177 - accuracy: 0.9035 - val_loss: 0.4012 - val_accuracy: 0.9091\n",
      "Epoch 3/10\n",
      "1200/1200 [==============================] - 4s 3ms/step - loss: 0.2847 - accuracy: 0.9270 - val_loss: 0.2982 - val_accuracy: 0.9316\n",
      "Epoch 4/10\n",
      "1200/1200 [==============================] - 3s 3ms/step - loss: 0.2419 - accuracy: 0.9376 - val_loss: 0.2966 - val_accuracy: 0.9344\n",
      "Epoch 5/10\n",
      "1200/1200 [==============================] - 3s 2ms/step - loss: 0.2185 - accuracy: 0.9430 - val_loss: 0.2992 - val_accuracy: 0.9304\n",
      "Epoch 6/10\n",
      "1200/1200 [==============================] - 2s 2ms/step - loss: 0.2043 - accuracy: 0.9459 - val_loss: 0.2513 - val_accuracy: 0.9414\n",
      "Epoch 7/10\n",
      "1200/1200 [==============================] - 3s 2ms/step - loss: 0.1851 - accuracy: 0.9504 - val_loss: 0.3919 - val_accuracy: 0.9361\n",
      "Epoch 8/10\n",
      "1200/1200 [==============================] - 2s 2ms/step - loss: 0.1829 - accuracy: 0.9519 - val_loss: 0.2678 - val_accuracy: 0.9396\n",
      "Epoch 9/10\n",
      "1200/1200 [==============================] - 2s 2ms/step - loss: 0.1740 - accuracy: 0.9553 - val_loss: 0.2730 - val_accuracy: 0.9451\n",
      "Epoch 10/10\n",
      "1200/1200 [==============================] - 2s 2ms/step - loss: 0.1638 - accuracy: 0.9562 - val_loss: 0.2422 - val_accuracy: 0.9494\n",
      "The time used to execute this is given below\n",
      "27.987417697906494\n"
     ]
    }
   ],
   "source": [
    "import time\n",
    "model.compile(optimizer=\"adam\",\n",
    "              loss='categorical_crossentropy',\n",
    "              metrics=['accuracy'])\n",
    "\n",
    "start = time.time()\n",
    "history = model.fit(x_train, y_train, \n",
    "                    batch_size=50, \n",
    "                    epochs=10, \n",
    "                    validation_data=(x_test, y_test))\n",
    "print(\"The time used to execute this is given below\")\n",
    "end = time.time()\n",
    "print(end - start)"
   ]
  },
  {
   "cell_type": "code",
   "execution_count": 6,
   "metadata": {},
   "outputs": [
    {
     "name": "stdout",
     "output_type": "stream",
     "text": [
      "Epoch 1/50\n"
     ]
    },
    {
     "name": "stderr",
     "output_type": "stream",
     "text": [
      "2022-07-09 18:41:57.326687: W tensorflow/core/framework/cpu_allocator_impl.cc:82] Allocation of 47040000 exceeds 10% of free system memory.\n",
      "2022-07-09 18:41:57.374099: W tensorflow/core/framework/cpu_allocator_impl.cc:82] Allocation of 47040000 exceeds 10% of free system memory.\n"
     ]
    },
    {
     "name": "stdout",
     "output_type": "stream",
     "text": [
      "1200/1200 [==============================] - 2s 2ms/step - loss: 0.1636 - accuracy: 0.9583 - val_loss: 0.2555 - val_accuracy: 0.9529\n",
      "Epoch 2/50\n",
      "1200/1200 [==============================] - 2s 2ms/step - loss: 0.1560 - accuracy: 0.9596 - val_loss: 0.2380 - val_accuracy: 0.9509\n",
      "Epoch 3/50\n",
      "1200/1200 [==============================] - 2s 2ms/step - loss: 0.1508 - accuracy: 0.9608 - val_loss: 0.2359 - val_accuracy: 0.9502\n",
      "Epoch 4/50\n",
      "1200/1200 [==============================] - 2s 2ms/step - loss: 0.1398 - accuracy: 0.9617 - val_loss: 0.2466 - val_accuracy: 0.9501\n",
      "Epoch 5/50\n",
      "1200/1200 [==============================] - 2s 2ms/step - loss: 0.1385 - accuracy: 0.9635 - val_loss: 0.2580 - val_accuracy: 0.9491\n",
      "Epoch 6/50\n",
      "1200/1200 [==============================] - 2s 2ms/step - loss: 0.1422 - accuracy: 0.9640 - val_loss: 0.3141 - val_accuracy: 0.9524\n",
      "Epoch 7/50\n",
      "1200/1200 [==============================] - 3s 3ms/step - loss: 0.1323 - accuracy: 0.9663 - val_loss: 0.2538 - val_accuracy: 0.9513\n",
      "Epoch 8/50\n",
      "1200/1200 [==============================] - 2s 2ms/step - loss: 0.1280 - accuracy: 0.9664 - val_loss: 0.3013 - val_accuracy: 0.9508\n",
      "Epoch 9/50\n",
      "1200/1200 [==============================] - 3s 2ms/step - loss: 0.1242 - accuracy: 0.9677 - val_loss: 0.2783 - val_accuracy: 0.9525\n",
      "Epoch 10/50\n",
      "1200/1200 [==============================] - 3s 2ms/step - loss: 0.1334 - accuracy: 0.9668 - val_loss: 0.3207 - val_accuracy: 0.9502\n",
      "Epoch 11/50\n",
      "1200/1200 [==============================] - 3s 3ms/step - loss: 0.1310 - accuracy: 0.9674 - val_loss: 0.3257 - val_accuracy: 0.9475\n",
      "Epoch 12/50\n",
      "1200/1200 [==============================] - 3s 3ms/step - loss: 0.1279 - accuracy: 0.9671 - val_loss: 0.3317 - val_accuracy: 0.9478\n",
      "Epoch 13/50\n",
      "1200/1200 [==============================] - 3s 2ms/step - loss: 0.1167 - accuracy: 0.9703 - val_loss: 0.3143 - val_accuracy: 0.9499\n",
      "Epoch 14/50\n",
      "1200/1200 [==============================] - 3s 2ms/step - loss: 0.1248 - accuracy: 0.9681 - val_loss: 0.3312 - val_accuracy: 0.9520\n",
      "Epoch 15/50\n",
      "1200/1200 [==============================] - 2s 2ms/step - loss: 0.1220 - accuracy: 0.9685 - val_loss: 0.3292 - val_accuracy: 0.9511\n",
      "Epoch 16/50\n",
      "1200/1200 [==============================] - 3s 2ms/step - loss: 0.1227 - accuracy: 0.9686 - val_loss: 0.3048 - val_accuracy: 0.9577\n",
      "Epoch 17/50\n",
      "1200/1200 [==============================] - 3s 2ms/step - loss: 0.1169 - accuracy: 0.9699 - val_loss: 0.3169 - val_accuracy: 0.9503\n",
      "Epoch 18/50\n",
      "1200/1200 [==============================] - 3s 2ms/step - loss: 0.1166 - accuracy: 0.9693 - val_loss: 0.3111 - val_accuracy: 0.9555\n",
      "Epoch 19/50\n",
      "1200/1200 [==============================] - 3s 2ms/step - loss: 0.1111 - accuracy: 0.9710 - val_loss: 0.3516 - val_accuracy: 0.9544\n",
      "Epoch 20/50\n",
      "1200/1200 [==============================] - 2s 2ms/step - loss: 0.1207 - accuracy: 0.9698 - val_loss: 0.4107 - val_accuracy: 0.9519\n",
      "Epoch 21/50\n",
      "1200/1200 [==============================] - 2s 2ms/step - loss: 0.1183 - accuracy: 0.9712 - val_loss: 0.3827 - val_accuracy: 0.9528\n",
      "Epoch 22/50\n",
      "1200/1200 [==============================] - 3s 2ms/step - loss: 0.1179 - accuracy: 0.9710 - val_loss: 0.3561 - val_accuracy: 0.9537\n",
      "Epoch 23/50\n",
      "1200/1200 [==============================] - 2s 2ms/step - loss: 0.1151 - accuracy: 0.9711 - val_loss: 0.3734 - val_accuracy: 0.9545\n",
      "Epoch 24/50\n",
      "1200/1200 [==============================] - 2s 2ms/step - loss: 0.1181 - accuracy: 0.9710 - val_loss: 0.3378 - val_accuracy: 0.9489\n",
      "Epoch 25/50\n",
      "1200/1200 [==============================] - 3s 2ms/step - loss: 0.1095 - accuracy: 0.9720 - val_loss: 0.3942 - val_accuracy: 0.9518\n",
      "Epoch 26/50\n",
      "1200/1200 [==============================] - 3s 2ms/step - loss: 0.1107 - accuracy: 0.9729 - val_loss: 0.3916 - val_accuracy: 0.9555\n",
      "Epoch 27/50\n",
      "1200/1200 [==============================] - 2s 2ms/step - loss: 0.1071 - accuracy: 0.9737 - val_loss: 0.4026 - val_accuracy: 0.9531\n",
      "Epoch 28/50\n",
      "1200/1200 [==============================] - 3s 2ms/step - loss: 0.1111 - accuracy: 0.9732 - val_loss: 0.4159 - val_accuracy: 0.9521\n",
      "Epoch 29/50\n",
      "1200/1200 [==============================] - 2s 2ms/step - loss: 0.1100 - accuracy: 0.9733 - val_loss: 0.3828 - val_accuracy: 0.9559\n",
      "Epoch 30/50\n",
      "1200/1200 [==============================] - 3s 2ms/step - loss: 0.1126 - accuracy: 0.9740 - val_loss: 0.4845 - val_accuracy: 0.9473\n",
      "Epoch 31/50\n",
      "1200/1200 [==============================] - 3s 2ms/step - loss: 0.1068 - accuracy: 0.9744 - val_loss: 0.4040 - val_accuracy: 0.9546\n",
      "Epoch 32/50\n",
      "1200/1200 [==============================] - 2s 2ms/step - loss: 0.1043 - accuracy: 0.9742 - val_loss: 0.3980 - val_accuracy: 0.9574\n",
      "Epoch 33/50\n",
      "1200/1200 [==============================] - 3s 2ms/step - loss: 0.1078 - accuracy: 0.9741 - val_loss: 0.4929 - val_accuracy: 0.9504\n",
      "Epoch 34/50\n",
      "1200/1200 [==============================] - 2s 2ms/step - loss: 0.0995 - accuracy: 0.9749 - val_loss: 0.3952 - val_accuracy: 0.9556\n",
      "Epoch 35/50\n",
      "1200/1200 [==============================] - 2s 2ms/step - loss: 0.1037 - accuracy: 0.9743 - val_loss: 0.4605 - val_accuracy: 0.9576\n",
      "Epoch 36/50\n",
      "1200/1200 [==============================] - 2s 2ms/step - loss: 0.0955 - accuracy: 0.9765 - val_loss: 0.4299 - val_accuracy: 0.9543\n",
      "Epoch 37/50\n",
      "1200/1200 [==============================] - 2s 2ms/step - loss: 0.1073 - accuracy: 0.9750 - val_loss: 0.4978 - val_accuracy: 0.9557\n",
      "Epoch 38/50\n",
      "1200/1200 [==============================] - 2s 2ms/step - loss: 0.0991 - accuracy: 0.9753 - val_loss: 0.4717 - val_accuracy: 0.9558\n",
      "Epoch 39/50\n",
      "1200/1200 [==============================] - 2s 2ms/step - loss: 0.0992 - accuracy: 0.9768 - val_loss: 0.4636 - val_accuracy: 0.9566\n",
      "Epoch 40/50\n",
      "1200/1200 [==============================] - 2s 2ms/step - loss: 0.1010 - accuracy: 0.9760 - val_loss: 0.5166 - val_accuracy: 0.9579\n",
      "Epoch 41/50\n",
      "1200/1200 [==============================] - 2s 2ms/step - loss: 0.0979 - accuracy: 0.9757 - val_loss: 0.5971 - val_accuracy: 0.9509\n",
      "Epoch 42/50\n",
      "1200/1200 [==============================] - 2s 2ms/step - loss: 0.1148 - accuracy: 0.9747 - val_loss: 0.5397 - val_accuracy: 0.9577\n",
      "Epoch 43/50\n",
      "1200/1200 [==============================] - 2s 2ms/step - loss: 0.1002 - accuracy: 0.9771 - val_loss: 0.5415 - val_accuracy: 0.9553\n",
      "Epoch 44/50\n",
      "1200/1200 [==============================] - 2s 2ms/step - loss: 0.0942 - accuracy: 0.9777 - val_loss: 0.5665 - val_accuracy: 0.9560\n",
      "Epoch 45/50\n",
      "1200/1200 [==============================] - 2s 2ms/step - loss: 0.0972 - accuracy: 0.9777 - val_loss: 0.4759 - val_accuracy: 0.9573\n",
      "Epoch 46/50\n",
      "1200/1200 [==============================] - 2s 2ms/step - loss: 0.1022 - accuracy: 0.9771 - val_loss: 0.5398 - val_accuracy: 0.9532\n",
      "Epoch 47/50\n",
      "1200/1200 [==============================] - 2s 2ms/step - loss: 0.1017 - accuracy: 0.9768 - val_loss: 0.6110 - val_accuracy: 0.9446\n",
      "Epoch 48/50\n",
      "1200/1200 [==============================] - 2s 2ms/step - loss: 0.0983 - accuracy: 0.9779 - val_loss: 0.5431 - val_accuracy: 0.9571\n",
      "Epoch 49/50\n",
      "1200/1200 [==============================] - 2s 2ms/step - loss: 0.0911 - accuracy: 0.9780 - val_loss: 0.5356 - val_accuracy: 0.9553\n",
      "Epoch 50/50\n",
      "1200/1200 [==============================] - 2s 2ms/step - loss: 0.0968 - accuracy: 0.9773 - val_loss: 0.5795 - val_accuracy: 0.9533\n",
      "The time used to execute this is given below\n",
      "124.35973477363586\n"
     ]
    }
   ],
   "source": [
    "import time\n",
    "model.compile(optimizer=\"adam\",\n",
    "              loss='categorical_crossentropy',\n",
    "              metrics=['accuracy'])\n",
    "\n",
    "start = time.time()\n",
    "history = model.fit(x_train, y_train, \n",
    "                    batch_size=50, \n",
    "                    epochs=50, \n",
    "                    validation_data=(x_test, y_test))\n",
    "print(\"The time used to execute this is given below\")\n",
    "end = time.time()\n",
    "print(end - start)"
   ]
  },
  {
   "cell_type": "code",
   "execution_count": 5,
   "metadata": {},
   "outputs": [
    {
     "name": "stdout",
     "output_type": "stream",
     "text": [
      "Epoch 1/100\n",
      "1200/1200 [==============================] - 4s 2ms/step - loss: 2.7463 - accuracy: 0.8498 - val_loss: 0.5343 - val_accuracy: 0.8870\n",
      "Epoch 2/100\n",
      "1200/1200 [==============================] - 3s 2ms/step - loss: 0.4045 - accuracy: 0.9029 - val_loss: 0.3898 - val_accuracy: 0.9108\n",
      "Epoch 3/100\n",
      "1200/1200 [==============================] - 3s 2ms/step - loss: 0.2973 - accuracy: 0.9251 - val_loss: 0.3307 - val_accuracy: 0.9237\n",
      "Epoch 4/100\n",
      "1200/1200 [==============================] - 2s 2ms/step - loss: 0.2433 - accuracy: 0.9363 - val_loss: 0.2655 - val_accuracy: 0.9410\n",
      "Epoch 5/100\n",
      "1200/1200 [==============================] - 2s 2ms/step - loss: 0.2136 - accuracy: 0.9448 - val_loss: 0.2434 - val_accuracy: 0.9418\n",
      "Epoch 6/100\n",
      "1200/1200 [==============================] - 3s 2ms/step - loss: 0.2020 - accuracy: 0.9465 - val_loss: 0.2392 - val_accuracy: 0.9428\n",
      "Epoch 7/100\n",
      "1200/1200 [==============================] - 3s 2ms/step - loss: 0.1952 - accuracy: 0.9493 - val_loss: 0.2456 - val_accuracy: 0.9402\n",
      "Epoch 8/100\n",
      "1200/1200 [==============================] - 2s 2ms/step - loss: 0.1844 - accuracy: 0.9518 - val_loss: 0.2480 - val_accuracy: 0.9435\n",
      "Epoch 9/100\n",
      "1200/1200 [==============================] - 3s 2ms/step - loss: 0.1714 - accuracy: 0.9558 - val_loss: 0.2236 - val_accuracy: 0.9528\n",
      "Epoch 10/100\n",
      "1200/1200 [==============================] - 3s 2ms/step - loss: 0.1638 - accuracy: 0.9575 - val_loss: 0.2379 - val_accuracy: 0.9477\n",
      "Epoch 11/100\n",
      "1200/1200 [==============================] - 3s 2ms/step - loss: 0.1645 - accuracy: 0.9574 - val_loss: 0.2398 - val_accuracy: 0.9519\n",
      "Epoch 12/100\n",
      "1200/1200 [==============================] - 2s 2ms/step - loss: 0.1573 - accuracy: 0.9600 - val_loss: 0.2549 - val_accuracy: 0.9484\n",
      "Epoch 13/100\n",
      "1200/1200 [==============================] - 3s 2ms/step - loss: 0.1462 - accuracy: 0.9616 - val_loss: 0.2660 - val_accuracy: 0.9492\n",
      "Epoch 14/100\n",
      "1200/1200 [==============================] - 2s 2ms/step - loss: 0.1429 - accuracy: 0.9630 - val_loss: 0.2943 - val_accuracy: 0.9471\n",
      "Epoch 15/100\n",
      "1200/1200 [==============================] - 3s 2ms/step - loss: 0.1412 - accuracy: 0.9646 - val_loss: 0.2654 - val_accuracy: 0.9523\n",
      "Epoch 16/100\n",
      "1200/1200 [==============================] - 3s 2ms/step - loss: 0.1391 - accuracy: 0.9651 - val_loss: 0.2802 - val_accuracy: 0.9518\n",
      "Epoch 17/100\n",
      "1200/1200 [==============================] - 3s 2ms/step - loss: 0.1282 - accuracy: 0.9663 - val_loss: 0.2485 - val_accuracy: 0.9558\n",
      "Epoch 18/100\n",
      "1200/1200 [==============================] - 3s 2ms/step - loss: 0.1280 - accuracy: 0.9674 - val_loss: 0.2945 - val_accuracy: 0.9520\n",
      "Epoch 19/100\n",
      "1200/1200 [==============================] - 3s 2ms/step - loss: 0.1270 - accuracy: 0.9681 - val_loss: 0.2632 - val_accuracy: 0.9553\n",
      "Epoch 20/100\n",
      "1200/1200 [==============================] - 3s 2ms/step - loss: 0.1272 - accuracy: 0.9678 - val_loss: 0.2736 - val_accuracy: 0.9565\n",
      "Epoch 21/100\n",
      "1200/1200 [==============================] - 2s 2ms/step - loss: 0.1193 - accuracy: 0.9688 - val_loss: 0.2884 - val_accuracy: 0.9537\n",
      "Epoch 22/100\n",
      "1200/1200 [==============================] - 3s 2ms/step - loss: 0.1196 - accuracy: 0.9694 - val_loss: 0.3409 - val_accuracy: 0.9543\n",
      "Epoch 23/100\n",
      "1200/1200 [==============================] - 3s 2ms/step - loss: 0.1261 - accuracy: 0.9686 - val_loss: 0.2877 - val_accuracy: 0.9567\n",
      "Epoch 24/100\n",
      "1200/1200 [==============================] - 3s 2ms/step - loss: 0.1212 - accuracy: 0.9704 - val_loss: 0.2918 - val_accuracy: 0.9535\n",
      "Epoch 25/100\n",
      "1200/1200 [==============================] - 2s 2ms/step - loss: 0.1091 - accuracy: 0.9718 - val_loss: 0.3311 - val_accuracy: 0.9546\n",
      "Epoch 26/100\n",
      "1200/1200 [==============================] - 2s 2ms/step - loss: 0.1110 - accuracy: 0.9717 - val_loss: 0.3359 - val_accuracy: 0.9561\n",
      "Epoch 27/100\n",
      "1200/1200 [==============================] - 3s 2ms/step - loss: 0.1230 - accuracy: 0.9711 - val_loss: 0.2940 - val_accuracy: 0.9543\n",
      "Epoch 28/100\n",
      "1200/1200 [==============================] - 3s 2ms/step - loss: 0.1102 - accuracy: 0.9722 - val_loss: 0.3505 - val_accuracy: 0.9529\n",
      "Epoch 29/100\n",
      "1200/1200 [==============================] - 3s 2ms/step - loss: 0.1122 - accuracy: 0.9723 - val_loss: 0.3453 - val_accuracy: 0.9530\n",
      "Epoch 30/100\n",
      "1200/1200 [==============================] - 3s 2ms/step - loss: 0.1131 - accuracy: 0.9730 - val_loss: 0.3560 - val_accuracy: 0.9523\n",
      "Epoch 31/100\n",
      "1200/1200 [==============================] - 3s 2ms/step - loss: 0.1094 - accuracy: 0.9733 - val_loss: 0.3909 - val_accuracy: 0.9506\n",
      "Epoch 32/100\n",
      "1200/1200 [==============================] - 2s 2ms/step - loss: 0.1083 - accuracy: 0.9735 - val_loss: 0.3596 - val_accuracy: 0.9561\n",
      "Epoch 33/100\n",
      "1200/1200 [==============================] - 2s 2ms/step - loss: 0.1057 - accuracy: 0.9743 - val_loss: 0.3913 - val_accuracy: 0.9580\n",
      "Epoch 34/100\n",
      "1200/1200 [==============================] - 2s 2ms/step - loss: 0.1047 - accuracy: 0.9732 - val_loss: 0.3784 - val_accuracy: 0.9544\n",
      "Epoch 35/100\n",
      "1200/1200 [==============================] - 2s 2ms/step - loss: 0.1060 - accuracy: 0.9750 - val_loss: 0.3804 - val_accuracy: 0.9562\n",
      "Epoch 36/100\n",
      "1200/1200 [==============================] - 2s 2ms/step - loss: 0.1067 - accuracy: 0.9745 - val_loss: 0.3717 - val_accuracy: 0.9568\n",
      "Epoch 37/100\n",
      "1200/1200 [==============================] - 3s 2ms/step - loss: 0.1030 - accuracy: 0.9754 - val_loss: 0.4167 - val_accuracy: 0.9520\n",
      "Epoch 38/100\n",
      "1200/1200 [==============================] - 2s 2ms/step - loss: 0.1051 - accuracy: 0.9747 - val_loss: 0.3727 - val_accuracy: 0.9559\n",
      "Epoch 39/100\n",
      "1200/1200 [==============================] - 2s 2ms/step - loss: 0.1054 - accuracy: 0.9752 - val_loss: 0.3579 - val_accuracy: 0.9561\n",
      "Epoch 40/100\n",
      "1200/1200 [==============================] - 2s 2ms/step - loss: 0.0991 - accuracy: 0.9758 - val_loss: 0.3886 - val_accuracy: 0.9560\n",
      "Epoch 41/100\n",
      "1200/1200 [==============================] - 2s 2ms/step - loss: 0.1024 - accuracy: 0.9749 - val_loss: 0.4016 - val_accuracy: 0.9551\n",
      "Epoch 42/100\n",
      "1200/1200 [==============================] - 3s 2ms/step - loss: 0.0937 - accuracy: 0.9766 - val_loss: 0.4716 - val_accuracy: 0.9585\n",
      "Epoch 43/100\n",
      "1200/1200 [==============================] - 3s 2ms/step - loss: 0.1057 - accuracy: 0.9746 - val_loss: 0.4537 - val_accuracy: 0.9559\n",
      "Epoch 44/100\n",
      "1200/1200 [==============================] - 3s 2ms/step - loss: 0.0906 - accuracy: 0.9774 - val_loss: 0.4200 - val_accuracy: 0.9582\n",
      "Epoch 45/100\n",
      "1200/1200 [==============================] - 2s 2ms/step - loss: 0.1019 - accuracy: 0.9756 - val_loss: 0.4584 - val_accuracy: 0.9547\n",
      "Epoch 46/100\n",
      "1200/1200 [==============================] - 3s 2ms/step - loss: 0.0952 - accuracy: 0.9772 - val_loss: 0.4250 - val_accuracy: 0.9564\n",
      "Epoch 47/100\n",
      "1200/1200 [==============================] - 2s 2ms/step - loss: 0.1011 - accuracy: 0.9765 - val_loss: 0.4558 - val_accuracy: 0.9571\n",
      "Epoch 48/100\n",
      "1200/1200 [==============================] - 3s 2ms/step - loss: 0.0986 - accuracy: 0.9767 - val_loss: 0.4430 - val_accuracy: 0.9600\n",
      "Epoch 49/100\n",
      "1200/1200 [==============================] - 3s 2ms/step - loss: 0.0897 - accuracy: 0.9786 - val_loss: 0.4959 - val_accuracy: 0.9565\n",
      "Epoch 50/100\n",
      "1200/1200 [==============================] - 3s 2ms/step - loss: 0.0920 - accuracy: 0.9780 - val_loss: 0.5036 - val_accuracy: 0.9553\n",
      "Epoch 51/100\n",
      "1200/1200 [==============================] - 3s 2ms/step - loss: 0.0945 - accuracy: 0.9771 - val_loss: 0.5064 - val_accuracy: 0.9551\n",
      "Epoch 52/100\n",
      "1200/1200 [==============================] - 3s 2ms/step - loss: 0.0940 - accuracy: 0.9776 - val_loss: 0.4832 - val_accuracy: 0.9578\n",
      "Epoch 53/100\n",
      "1200/1200 [==============================] - 2s 2ms/step - loss: 0.0929 - accuracy: 0.9779 - val_loss: 0.5550 - val_accuracy: 0.9562\n",
      "Epoch 54/100\n",
      "1200/1200 [==============================] - 3s 2ms/step - loss: 0.0929 - accuracy: 0.9778 - val_loss: 0.5531 - val_accuracy: 0.9569\n",
      "Epoch 55/100\n",
      "1200/1200 [==============================] - 3s 2ms/step - loss: 0.0904 - accuracy: 0.9788 - val_loss: 0.5873 - val_accuracy: 0.9545\n",
      "Epoch 56/100\n",
      "1200/1200 [==============================] - 2s 2ms/step - loss: 0.0885 - accuracy: 0.9788 - val_loss: 0.5795 - val_accuracy: 0.9519\n",
      "Epoch 57/100\n",
      "1200/1200 [==============================] - 2s 2ms/step - loss: 0.1026 - accuracy: 0.9767 - val_loss: 0.6261 - val_accuracy: 0.9562\n",
      "Epoch 58/100\n",
      "1200/1200 [==============================] - 3s 2ms/step - loss: 0.0943 - accuracy: 0.9781 - val_loss: 0.5182 - val_accuracy: 0.9577\n",
      "Epoch 59/100\n",
      "1200/1200 [==============================] - 2s 2ms/step - loss: 0.0953 - accuracy: 0.9780 - val_loss: 0.5495 - val_accuracy: 0.9551\n",
      "Epoch 60/100\n",
      "1200/1200 [==============================] - 3s 3ms/step - loss: 0.0899 - accuracy: 0.9782 - val_loss: 0.5269 - val_accuracy: 0.9556\n",
      "Epoch 61/100\n",
      "1200/1200 [==============================] - 3s 2ms/step - loss: 0.0902 - accuracy: 0.9789 - val_loss: 0.5824 - val_accuracy: 0.9546\n",
      "Epoch 62/100\n",
      "1200/1200 [==============================] - 3s 2ms/step - loss: 0.0856 - accuracy: 0.9790 - val_loss: 0.5937 - val_accuracy: 0.9553\n",
      "Epoch 63/100\n",
      "1200/1200 [==============================] - 3s 2ms/step - loss: 0.0881 - accuracy: 0.9798 - val_loss: 0.5781 - val_accuracy: 0.9529\n",
      "Epoch 64/100\n",
      "1200/1200 [==============================] - 2s 2ms/step - loss: 0.0898 - accuracy: 0.9799 - val_loss: 0.6670 - val_accuracy: 0.9556\n",
      "Epoch 65/100\n",
      "1200/1200 [==============================] - 3s 2ms/step - loss: 0.0889 - accuracy: 0.9789 - val_loss: 0.6820 - val_accuracy: 0.9511\n",
      "Epoch 66/100\n",
      "1200/1200 [==============================] - 3s 2ms/step - loss: 0.0863 - accuracy: 0.9796 - val_loss: 0.6152 - val_accuracy: 0.9566\n",
      "Epoch 67/100\n",
      "1200/1200 [==============================] - 2s 2ms/step - loss: 0.0907 - accuracy: 0.9797 - val_loss: 0.7018 - val_accuracy: 0.9561\n",
      "Epoch 68/100\n",
      "1200/1200 [==============================] - 2s 2ms/step - loss: 0.0845 - accuracy: 0.9800 - val_loss: 0.6441 - val_accuracy: 0.9544\n",
      "Epoch 69/100\n",
      "1200/1200 [==============================] - 3s 2ms/step - loss: 0.0875 - accuracy: 0.9797 - val_loss: 0.6341 - val_accuracy: 0.9554\n",
      "Epoch 70/100\n",
      "1200/1200 [==============================] - 3s 2ms/step - loss: 0.0843 - accuracy: 0.9797 - val_loss: 0.7255 - val_accuracy: 0.9563\n",
      "Epoch 71/100\n",
      "1200/1200 [==============================] - 2s 2ms/step - loss: 0.0859 - accuracy: 0.9804 - val_loss: 0.7050 - val_accuracy: 0.9532\n",
      "Epoch 72/100\n",
      "1200/1200 [==============================] - 3s 2ms/step - loss: 0.0860 - accuracy: 0.9797 - val_loss: 0.6584 - val_accuracy: 0.9555\n",
      "Epoch 73/100\n",
      "1200/1200 [==============================] - 2s 2ms/step - loss: 0.1018 - accuracy: 0.9787 - val_loss: 0.7259 - val_accuracy: 0.9539\n",
      "Epoch 74/100\n",
      "1200/1200 [==============================] - 2s 2ms/step - loss: 0.0973 - accuracy: 0.9791 - val_loss: 0.7122 - val_accuracy: 0.9532\n",
      "Epoch 75/100\n",
      "1200/1200 [==============================] - 3s 2ms/step - loss: 0.0876 - accuracy: 0.9804 - val_loss: 0.7278 - val_accuracy: 0.9542\n",
      "Epoch 76/100\n",
      "1200/1200 [==============================] - 3s 2ms/step - loss: 0.0865 - accuracy: 0.9803 - val_loss: 0.7040 - val_accuracy: 0.9554\n",
      "Epoch 77/100\n",
      "1200/1200 [==============================] - 3s 3ms/step - loss: 0.0861 - accuracy: 0.9799 - val_loss: 0.7219 - val_accuracy: 0.9548\n",
      "Epoch 78/100\n",
      "1200/1200 [==============================] - 2s 2ms/step - loss: 0.0837 - accuracy: 0.9804 - val_loss: 0.8656 - val_accuracy: 0.9514\n",
      "Epoch 79/100\n",
      "1200/1200 [==============================] - 2s 2ms/step - loss: 0.0863 - accuracy: 0.9799 - val_loss: 0.7319 - val_accuracy: 0.9560\n",
      "Epoch 80/100\n",
      "1200/1200 [==============================] - 3s 2ms/step - loss: 0.0849 - accuracy: 0.9806 - val_loss: 0.7886 - val_accuracy: 0.9560\n",
      "Epoch 81/100\n",
      "1200/1200 [==============================] - 3s 2ms/step - loss: 0.0836 - accuracy: 0.9808 - val_loss: 0.7184 - val_accuracy: 0.9540\n",
      "Epoch 82/100\n",
      "1200/1200 [==============================] - 3s 2ms/step - loss: 0.0906 - accuracy: 0.9802 - val_loss: 0.7120 - val_accuracy: 0.9541\n",
      "Epoch 83/100\n",
      "1200/1200 [==============================] - 2s 2ms/step - loss: 0.0848 - accuracy: 0.9811 - val_loss: 0.8113 - val_accuracy: 0.9529\n",
      "Epoch 84/100\n",
      "1200/1200 [==============================] - 2s 2ms/step - loss: 0.0823 - accuracy: 0.9821 - val_loss: 0.7755 - val_accuracy: 0.9547\n",
      "Epoch 85/100\n",
      "1200/1200 [==============================] - 3s 2ms/step - loss: 0.0826 - accuracy: 0.9812 - val_loss: 0.7926 - val_accuracy: 0.9556\n",
      "Epoch 86/100\n",
      "1200/1200 [==============================] - 3s 2ms/step - loss: 0.0902 - accuracy: 0.9796 - val_loss: 0.8069 - val_accuracy: 0.9570\n",
      "Epoch 87/100\n",
      "1200/1200 [==============================] - 2s 2ms/step - loss: 0.0769 - accuracy: 0.9821 - val_loss: 0.8068 - val_accuracy: 0.9551\n",
      "Epoch 88/100\n",
      "1200/1200 [==============================] - 3s 2ms/step - loss: 0.0819 - accuracy: 0.9805 - val_loss: 0.8641 - val_accuracy: 0.9511\n",
      "Epoch 89/100\n",
      "1200/1200 [==============================] - 3s 2ms/step - loss: 0.0806 - accuracy: 0.9825 - val_loss: 0.8383 - val_accuracy: 0.9541\n",
      "Epoch 90/100\n",
      "1200/1200 [==============================] - 3s 2ms/step - loss: 0.0941 - accuracy: 0.9805 - val_loss: 0.8274 - val_accuracy: 0.9549\n",
      "Epoch 91/100\n",
      "1200/1200 [==============================] - 2s 2ms/step - loss: 0.0835 - accuracy: 0.9814 - val_loss: 0.8297 - val_accuracy: 0.9554\n",
      "Epoch 92/100\n",
      "1200/1200 [==============================] - 3s 2ms/step - loss: 0.0830 - accuracy: 0.9810 - val_loss: 0.8672 - val_accuracy: 0.9573\n",
      "Epoch 93/100\n",
      "1200/1200 [==============================] - 3s 2ms/step - loss: 0.0791 - accuracy: 0.9814 - val_loss: 0.8433 - val_accuracy: 0.9561\n",
      "Epoch 94/100\n",
      "1200/1200 [==============================] - 3s 2ms/step - loss: 0.0790 - accuracy: 0.9815 - val_loss: 0.8734 - val_accuracy: 0.9584\n",
      "Epoch 95/100\n",
      "1200/1200 [==============================] - 2s 2ms/step - loss: 0.0821 - accuracy: 0.9814 - val_loss: 0.7872 - val_accuracy: 0.9538\n",
      "Epoch 96/100\n",
      "1200/1200 [==============================] - 3s 2ms/step - loss: 0.0840 - accuracy: 0.9818 - val_loss: 0.8866 - val_accuracy: 0.9562\n",
      "Epoch 97/100\n",
      "1200/1200 [==============================] - 3s 2ms/step - loss: 0.0720 - accuracy: 0.9827 - val_loss: 0.9284 - val_accuracy: 0.9588\n",
      "Epoch 98/100\n",
      "1200/1200 [==============================] - 2s 2ms/step - loss: 0.0767 - accuracy: 0.9830 - val_loss: 0.9490 - val_accuracy: 0.9558\n",
      "Epoch 99/100\n",
      "1200/1200 [==============================] - 3s 2ms/step - loss: 0.0807 - accuracy: 0.9817 - val_loss: 0.9138 - val_accuracy: 0.9577\n",
      "Epoch 100/100\n",
      "1200/1200 [==============================] - 2s 2ms/step - loss: 0.0839 - accuracy: 0.9820 - val_loss: 0.9499 - val_accuracy: 0.9553\n",
      "The time used to execute this is given below\n",
      "257.6006979942322\n"
     ]
    }
   ],
   "source": [
    "import time\n",
    "model.compile(optimizer=\"adam\",\n",
    "              loss='categorical_crossentropy',\n",
    "              metrics=['accuracy'])\n",
    "\n",
    "start = time.time()\n",
    "history = model.fit(x_train, y_train, \n",
    "                    batch_size=50, \n",
    "                    epochs=100, \n",
    "                    validation_data=(x_test, y_test))\n",
    "print(\"The time used to execute this is given below\")\n",
    "end = time.time()\n",
    "print(end - start)"
   ]
  },
  {
   "cell_type": "code",
   "execution_count": 6,
   "metadata": {},
   "outputs": [
    {
     "data": {
      "image/png": "[encoded data removed]",
      "text/plain": [
       "<Figure size 432x288 with 1 Axes>"
      ]
     },
     "metadata": {
      "needs_background": "light"
     },
     "output_type": "display_data"
    },
    {
     "data": {
      "image/png": "[encoded data removed]",
      "text/plain": [
       "<Figure size 432x288 with 1 Axes>"
      ]
     },
     "metadata": {
      "needs_background": "light"
     },
     "output_type": "display_data"
    },
    {
     "name": "stdout",
     "output_type": "stream",
     "text": [
      "313/313 [==============================] - 1s 2ms/step - loss: 0.2881 - accuracy: 0.9519\n",
      "Test loss: 0.288\n",
      "Test accuracy: 0.952\n"
     ]
    }
   ],
   "source": [
    "import matplotlib.pyplot as plt\n",
    "plt.plot(history.history['accuracy'])\n",
    "plt.plot(history.history['val_accuracy'])\n",
    "plt.title('model accuracy')\n",
    "plt.ylabel('accuracy')\n",
    "plt.xlabel('epoch')\n",
    "plt.legend(['training', 'validation'], loc='best')\n",
    "plt.show()\n",
    "\n",
    "plt.plot(history.history['loss'])\n",
    "plt.plot(history.history['val_loss'])\n",
    "plt.title('model loss')\n",
    "plt.ylabel('loss')\n",
    "plt.xlabel('epoch')\n",
    "plt.legend(['training', 'validation'], loc='best')\n",
    "plt.show()\n",
    "\n",
    "loss, accuracy  = model.evaluate(x_test, y_test)\n",
    "print(f'Test loss: {loss:.3}')\n",
    "print(f'Test accuracy: {accuracy:.3}')"
   ]
  },
  {
   "cell_type": "code",
   "execution_count": 7,
   "metadata": {},
   "outputs": [],
   "source": [
    "# Guardamos el modelo\n",
    "model.save('mnistANN15epochsGPU.h5')"
   ]
  },
  {
   "cell_type": "code",
   "execution_count": null,
   "metadata": {},
   "outputs": [],
   "source": []
  }
 ],
 "metadata": {
  "kernelspec": {
   "display_name": "Python 3 (ipykernel)",
   "language": "python",
   "name": "python3"
  },
  "language_info": {
   "codemirror_mode": {
    "name": "ipython",
    "version": 3
   },
   "file_extension": ".py",
   "mimetype": "text/x-python",
   "name": "python",
   "nbconvert_exporter": "python",
   "pygments_lexer": "ipython3",
   "version": "3.10.4"
  }
 },
 "nbformat": 4,
 "nbformat_minor": 2
}
